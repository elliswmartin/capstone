{
 "cells": [
  {
   "cell_type": "code",
   "execution_count": null,
   "id": "4331f3df",
   "metadata": {},
   "outputs": [],
   "source": [
    "#pip install praw\n",
    "#pip install emoji"
   ]
  },
  {
   "cell_type": "code",
   "execution_count": null,
   "id": "52efa5b1",
   "metadata": {},
   "outputs": [],
   "source": [
    "# Standard imports \n",
    "import requests\n",
    "import praw\n",
    "import datetime\n",
    "from datetime import datetime\n",
    "import csv\n",
    "import emoji"
   ]
  },
  {
   "cell_type": "markdown",
   "id": "c59f7cb9",
   "metadata": {},
   "source": [
    "**Reddit API** access rules: https://www.reddit.com/dev/api/\n",
    "\n",
    "We have two queries here \n",
    "\n",
    "(1) **`WarnMe`**  \n",
    "(2) **`warnme`**\n",
    "\n",
    "**Note**: For warnMe :**429 HTTP response**"
   ]
  },
  {
   "cell_type": "code",
   "execution_count": null,
   "id": "d7f93a21",
   "metadata": {},
   "outputs": [],
   "source": [
    "reddit = praw.Reddit(\n",
    "    client_id=\"GYnV2kxgn6sA1s0Z5BC-cg\",\n",
    "    client_secret=\"03FO2qLPHOrnpT313LySzkdPBjUCNA\",\n",
    "    user_agent=\"my_app by u/Calm_Equivalent_3845\"\n",
    ")\n",
    "\n",
    "subreddit = reddit.subreddit('berkeley')\n",
    "query = 'warnme'\n",
    "\n",
    "posts = []\n",
    "\n",
    "for submission in subreddit.search(query, time_filter='all', limit=None):\n",
    "\n",
    "    submission_date = datetime.utcfromtimestamp(submission.created_utc).strftime('%Y-%m-%d')\n",
    "    submission_time = datetime.utcfromtimestamp(submission.created_utc).strftime('%H:%M:%S')\n",
    "\n",
    "    if datetime(2021, 1, 1) <= datetime.utcfromtimestamp(submission.created_utc) <= datetime(2023, 12, 31):\n",
    "        comments = []\n",
    "        submission.comments.replace_more(limit=None)\n",
    "        for comment in submission.comments:\n",
    "            comment_text = comment.body\n",
    "            comment_text = emoji.demojize(comment_text)\n",
    "            comments.append(comment_text)\n",
    "\n",
    "        video_url = \"\"\n",
    "        if submission.is_self:\n",
    "            video_url = submission.selftext\n",
    "        else:\n",
    "            video_url = submission.url\n",
    "        posts.append([submission_date, submission_time, submission.title, f\"https://reddit.com{submission.permalink}\", comments, video_url])\n",
    "\n",
    "csv_file_name = 'berkeley_warnme_posts_enhanced_1.csv'\n",
    "\n",
    "with open(csv_file_name, 'w', newline='', encoding='utf-8') as file:\n",
    "    writer = csv.writer(file)\n",
    "    writer.writerow(['Date', 'Time', 'Post', 'URL', 'Comments', 'Video URL (if available)'])\n",
    "    writer.writerows(posts)\n",
    "\n",
    "print(f\"Scraped data has been saved to {csv_file_name}\")\n"
   ]
  },
  {
   "cell_type": "code",
   "execution_count": null,
   "id": "8db2c1ac",
   "metadata": {},
   "outputs": [],
   "source": []
  }
 ],
 "metadata": {
  "kernelspec": {
   "display_name": "Python 3 (ipykernel)",
   "language": "python",
   "name": "python3"
  },
  "language_info": {
   "codemirror_mode": {
    "name": "ipython",
    "version": 3
   },
   "file_extension": ".py",
   "mimetype": "text/x-python",
   "name": "python",
   "nbconvert_exporter": "python",
   "pygments_lexer": "ipython3",
   "version": "3.11.5"
  }
 },
 "nbformat": 4,
 "nbformat_minor": 5
}
